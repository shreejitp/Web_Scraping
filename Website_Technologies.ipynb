{
  "nbformat": 4,
  "nbformat_minor": 0,
  "metadata": {
    "colab": {
      "name": "Website_Technologies.ipynb",
      "provenance": [],
      "include_colab_link": true
    },
    "kernelspec": {
      "name": "python3",
      "display_name": "Python 3"
    }
  },
  "cells": [
    {
      "cell_type": "markdown",
      "metadata": {
        "id": "view-in-github",
        "colab_type": "text"
      },
      "source": [
        "<a href=\"https://colab.research.google.com/github/shreejitp/Web_Scraping/blob/main/Website_Technologies.ipynb\" target=\"_parent\"><img src=\"https://colab.research.google.com/assets/colab-badge.svg\" alt=\"Open In Colab\"/></a>"
      ]
    },
    {
      "cell_type": "markdown",
      "metadata": {
        "id": "JeroW2sIYizI"
      },
      "source": [
        "This notebook uses a bunch of Python libraries for extracting information from websites. \n",
        "\n",
        "Here's a summary of some of the packages/libraries that are used:\n",
        "- Builtwith\n",
        "- requests\n",
        "- colorama\n",
        "- bs4\n",
        "- Webtech\n",
        "- wad\n"
      ]
    },
    {
      "cell_type": "markdown",
      "metadata": {
        "id": "FTCUqjTUCOF-"
      },
      "source": [
        "# **BUILTWITH**"
      ]
    },
    {
      "cell_type": "code",
      "metadata": {
        "id": "UlreL7vlYfmW",
        "colab": {
          "base_uri": "https://localhost:8080/"
        },
        "outputId": "35ec30b3-0ac5-4ab6-acc0-7524d2337214"
      },
      "source": [
        "!pip install builtwith"
      ],
      "execution_count": 1,
      "outputs": [
        {
          "output_type": "stream",
          "text": [
            "Collecting builtwith\n",
            "  Downloading https://files.pythonhosted.org/packages/dc/2d/74516237b5515980fc9153f0a119e39fb8b7bbcb11d23525a75d28610785/builtwith-1.3.4.tar.gz\n",
            "Requirement already satisfied: six in /usr/local/lib/python3.6/dist-packages (from builtwith) (1.15.0)\n",
            "Building wheels for collected packages: builtwith\n",
            "  Building wheel for builtwith (setup.py) ... \u001b[?25l\u001b[?25hdone\n",
            "  Created wheel for builtwith: filename=builtwith-1.3.4-cp36-none-any.whl size=36100 sha256=dab396e62d6d1718978fa2a3f6b1b31180821a570be5e608cb27f19beb3183d6\n",
            "  Stored in directory: /root/.cache/pip/wheels/ab/bf/98/1e11b10a7c3bdea99ff8fe79abc7d3d22a254cab4753a88d52\n",
            "Successfully built builtwith\n",
            "Installing collected packages: builtwith\n",
            "Successfully installed builtwith-1.3.4\n"
          ],
          "name": "stdout"
        }
      ]
    },
    {
      "cell_type": "code",
      "metadata": {
        "id": "PfgrOK1DR5kQ"
      },
      "source": [
        "import builtwith"
      ],
      "execution_count": 2,
      "outputs": []
    },
    {
      "cell_type": "code",
      "metadata": {
        "id": "HSbJEetDR7zf"
      },
      "source": [
        "# Some published websites return NULL though - Do they have something blocking builtwith type API's\n",
        "website= builtwith.parse(\"https://machinelearningmastery.com/\")\n"
      ],
      "execution_count": 9,
      "outputs": []
    },
    {
      "cell_type": "code",
      "metadata": {
        "id": "iD3L1Krmhk1m",
        "colab": {
          "base_uri": "https://localhost:8080/"
        },
        "outputId": "eccf6a9c-4544-476e-d3d8-b2ea56ae0282"
      },
      "source": [
        "website"
      ],
      "execution_count": 10,
      "outputs": [
        {
          "output_type": "execute_result",
          "data": {
            "text/plain": [
              "{'blogs': ['PHP', 'WordPress'],\n",
              " 'cms': ['WordPress'],\n",
              " 'javascript-frameworks': ['Modernizr', 'jQuery'],\n",
              " 'marketing-automation': ['Yoast SEO'],\n",
              " 'programming-languages': ['PHP'],\n",
              " 'web-servers': ['Nginx']}"
            ]
          },
          "metadata": {
            "tags": []
          },
          "execution_count": 10
        }
      ]
    },
    {
      "cell_type": "code",
      "metadata": {
        "id": "zzAe7PaR_F9W",
        "colab": {
          "base_uri": "https://localhost:8080/"
        },
        "outputId": "cf265090-d515-4775-ddac-c6c91d72ee5e"
      },
      "source": [
        "!pip install requests"
      ],
      "execution_count": 21,
      "outputs": [
        {
          "output_type": "stream",
          "text": [
            "Requirement already satisfied: requests in /usr/local/lib/python3.6/dist-packages (2.23.0)\n",
            "Requirement already satisfied: idna<3,>=2.5 in /usr/local/lib/python3.6/dist-packages (from requests) (2.10)\n",
            "Requirement already satisfied: certifi>=2017.4.17 in /usr/local/lib/python3.6/dist-packages (from requests) (2020.12.5)\n",
            "Requirement already satisfied: urllib3!=1.25.0,!=1.25.1,<1.26,>=1.21.1 in /usr/local/lib/python3.6/dist-packages (from requests) (1.24.3)\n",
            "Requirement already satisfied: chardet<4,>=3.0.2 in /usr/local/lib/python3.6/dist-packages (from requests) (3.0.4)\n"
          ],
          "name": "stdout"
        }
      ]
    },
    {
      "cell_type": "code",
      "metadata": {
        "id": "LvrvvRuB_GAE",
        "colab": {
          "base_uri": "https://localhost:8080/",
          "height": 86
        },
        "outputId": "73bc0092-161a-4f95-e133-85726dee50a7"
      },
      "source": [
        "!pip install colorama"
      ],
      "execution_count": null,
      "outputs": [
        {
          "output_type": "stream",
          "text": [
            "Collecting colorama\n",
            "  Downloading https://files.pythonhosted.org/packages/c9/dc/45cdef1b4d119eb96316b3117e6d5708a08029992b2fee2c143c7a0a5cc5/colorama-0.4.3-py2.py3-none-any.whl\n",
            "Installing collected packages: colorama\n",
            "Successfully installed colorama-0.4.3\n"
          ],
          "name": "stdout"
        }
      ]
    },
    {
      "cell_type": "code",
      "metadata": {
        "id": "Gl3wXDFC_GCw",
        "colab": {
          "base_uri": "https://localhost:8080/",
          "height": 52
        },
        "outputId": "53b7065d-373e-452b-e00f-e63d40b186bb"
      },
      "source": [
        "!pip install bs4"
      ],
      "execution_count": null,
      "outputs": [
        {
          "output_type": "stream",
          "text": [
            "Requirement already satisfied: bs4 in /usr/local/lib/python3.6/dist-packages (0.0.1)\n",
            "Requirement already satisfied: beautifulsoup4 in /usr/local/lib/python3.6/dist-packages (from bs4) (4.6.3)\n"
          ],
          "name": "stdout"
        }
      ]
    },
    {
      "cell_type": "code",
      "metadata": {
        "id": "uFR63saCS2FX",
        "colab": {
          "base_uri": "https://localhost:8080/"
        },
        "outputId": "e6fcaca7-c9fe-4326-c270-2d4a8fa885ff"
      },
      "source": [
        "for key,value in website.items():\n",
        "  print(key,value)"
      ],
      "execution_count": 11,
      "outputs": [
        {
          "output_type": "stream",
          "text": [
            "web-servers ['Nginx']\n",
            "javascript-frameworks ['Modernizr', 'jQuery']\n",
            "cms ['WordPress']\n",
            "programming-languages ['PHP']\n",
            "blogs ['PHP', 'WordPress']\n",
            "marketing-automation ['Yoast SEO']\n"
          ],
          "name": "stdout"
        }
      ]
    },
    {
      "cell_type": "code",
      "metadata": {
        "id": "gjxmPE1fWGn3"
      },
      "source": [
        "#Webtech "
      ],
      "execution_count": null,
      "outputs": []
    },
    {
      "cell_type": "code",
      "metadata": {
        "id": "QEZ0HqGLWGrX",
        "colab": {
          "base_uri": "https://localhost:8080/"
        },
        "outputId": "3ee8c49f-994c-40aa-b100-cb29198784b3"
      },
      "source": [
        "!pip install webtech"
      ],
      "execution_count": 13,
      "outputs": [
        {
          "output_type": "stream",
          "text": [
            "Collecting webtech\n",
            "\u001b[?25l  Downloading https://files.pythonhosted.org/packages/a9/6c/4d196a212f1ddc59cb6e8330f6c881d558516c836b2c9d7b05c5d59b658a/webtech-1.2.9-py3-none-any.whl (154kB)\n",
            "\r\u001b[K     |██▏                             | 10kB 6.3MB/s eta 0:00:01\r\u001b[K     |████▎                           | 20kB 10.5MB/s eta 0:00:01\r\u001b[K     |██████▍                         | 30kB 13.3MB/s eta 0:00:01\r\u001b[K     |████████▌                       | 40kB 9.4MB/s eta 0:00:01\r\u001b[K     |██████████▋                     | 51kB 8.3MB/s eta 0:00:01\r\u001b[K     |████████████▊                   | 61kB 8.7MB/s eta 0:00:01\r\u001b[K     |██████████████▉                 | 71kB 7.7MB/s eta 0:00:01\r\u001b[K     |█████████████████               | 81kB 8.3MB/s eta 0:00:01\r\u001b[K     |███████████████████             | 92kB 8.5MB/s eta 0:00:01\r\u001b[K     |█████████████████████▎          | 102kB 9.3MB/s eta 0:00:01\r\u001b[K     |███████████████████████▍        | 112kB 9.3MB/s eta 0:00:01\r\u001b[K     |█████████████████████████▌      | 122kB 9.3MB/s eta 0:00:01\r\u001b[K     |███████████████████████████▋    | 133kB 9.3MB/s eta 0:00:01\r\u001b[K     |█████████████████████████████▊  | 143kB 9.3MB/s eta 0:00:01\r\u001b[K     |███████████████████████████████▉| 153kB 9.3MB/s eta 0:00:01\r\u001b[K     |████████████████████████████████| 163kB 9.3MB/s \n",
            "\u001b[?25hRequirement already satisfied: requests in /usr/local/lib/python3.6/dist-packages (from webtech) (2.23.0)\n",
            "Requirement already satisfied: idna<3,>=2.5 in /usr/local/lib/python3.6/dist-packages (from requests->webtech) (2.10)\n",
            "Requirement already satisfied: chardet<4,>=3.0.2 in /usr/local/lib/python3.6/dist-packages (from requests->webtech) (3.0.4)\n",
            "Requirement already satisfied: urllib3!=1.25.0,!=1.25.1,<1.26,>=1.21.1 in /usr/local/lib/python3.6/dist-packages (from requests->webtech) (1.24.3)\n",
            "Requirement already satisfied: certifi>=2017.4.17 in /usr/local/lib/python3.6/dist-packages (from requests->webtech) (2020.12.5)\n",
            "Installing collected packages: webtech\n",
            "Successfully installed webtech-1.2.9\n"
          ],
          "name": "stdout"
        }
      ]
    },
    {
      "cell_type": "markdown",
      "metadata": {
        "id": "DxEBDLgNX4mL"
      },
      "source": [
        "# **WEBTECH**\n",
        "https://github.com/ShielderSec/webtech"
      ]
    },
    {
      "cell_type": "code",
      "metadata": {
        "id": "MMlyuZLtWG1C",
        "colab": {
          "base_uri": "https://localhost:8080/"
        },
        "outputId": "99b0037d-e247-44ef-9e26-045b89c82aa8"
      },
      "source": [
        "import webtech\n",
        "\n",
        "# you can use options, same as from the command line\n",
        "wt = webtech.WebTech(options={'json': True})\n",
        "\n",
        "# scan a single website\n",
        "try:\n",
        "  report = wt.start_from_url(\"https://machinelearningmastery.com/\")\n",
        "  print(report)\n",
        "except webtech.utils.ConnectionException:\n",
        "  print(\"Connection error\")"
      ],
      "execution_count": 14,
      "outputs": [
        {
          "output_type": "stream",
          "text": [
            "Wappalyzer Database file not present.\n",
            "Updating database...\n",
            "Database updated successfully!\n",
            "WebTech Database file not present.\n",
            "Updating database...\n",
            "Database updated successfully!\n",
            "{'tech': [{'name': 'WordPress', 'version': None}, {'name': 'Nginx', 'version': None}, {'name': 'Yoast SEO', 'version': '15.7'}], 'headers': [{'name': 'X-Powered-By', 'value': 'WP Engine'}, {'name': 'X-Cacheable', 'value': 'SHORT'}, {'name': 'X-Cache-Group', 'value': 'normal'}]}\n"
          ],
          "name": "stdout"
        }
      ]
    },
    {
      "cell_type": "code",
      "metadata": {
        "id": "yxNgkpaCEwaL",
        "colab": {
          "base_uri": "https://localhost:8080/"
        },
        "outputId": "f3afc952-e440-4ece-a3ae-687f5b05cb45"
      },
      "source": [
        "for key,value in report.items():\n",
        "  print(key,value)"
      ],
      "execution_count": 15,
      "outputs": [
        {
          "output_type": "stream",
          "text": [
            "tech [{'name': 'WordPress', 'version': None}, {'name': 'Nginx', 'version': None}, {'name': 'Yoast SEO', 'version': '15.7'}]\n",
            "headers [{'name': 'X-Powered-By', 'value': 'WP Engine'}, {'name': 'X-Cacheable', 'value': 'SHORT'}, {'name': 'X-Cache-Group', 'value': 'normal'}]\n"
          ],
          "name": "stdout"
        }
      ]
    },
    {
      "cell_type": "markdown",
      "metadata": {
        "id": "a7MXSa7fZtUS"
      },
      "source": [
        "# **WEB** **APPLICATION** **DETECTOR**"
      ]
    },
    {
      "cell_type": "code",
      "metadata": {
        "id": "7gnyiXmlZql3",
        "colab": {
          "base_uri": "https://localhost:8080/"
        },
        "outputId": "aefcc238-82c3-479f-cf13-2f21fe2bce05"
      },
      "source": [
        "pip install wad"
      ],
      "execution_count": 17,
      "outputs": [
        {
          "output_type": "stream",
          "text": [
            "Collecting wad\n",
            "\u001b[?25l  Downloading https://files.pythonhosted.org/packages/4e/51/c4508b81830232675b8884450f8b09b978337ceb23c02295a6e83c402fcb/wad-0.4.6.tar.gz (100kB)\n",
            "\r\u001b[K     |███▎                            | 10kB 23.1MB/s eta 0:00:01\r\u001b[K     |██████▌                         | 20kB 18.5MB/s eta 0:00:01\r\u001b[K     |█████████▊                      | 30kB 10.9MB/s eta 0:00:01\r\u001b[K     |█████████████                   | 40kB 9.1MB/s eta 0:00:01\r\u001b[K     |████████████████▎               | 51kB 7.9MB/s eta 0:00:01\r\u001b[K     |███████████████████▌            | 61kB 8.2MB/s eta 0:00:01\r\u001b[K     |██████████████████████▊         | 71kB 8.6MB/s eta 0:00:01\r\u001b[K     |██████████████████████████      | 81kB 8.6MB/s eta 0:00:01\r\u001b[K     |█████████████████████████████▎  | 92kB 8.6MB/s eta 0:00:01\r\u001b[K     |████████████████████████████████| 102kB 6.0MB/s \n",
            "\u001b[?25hBuilding wheels for collected packages: wad\n",
            "  Building wheel for wad (setup.py) ... \u001b[?25l\u001b[?25hdone\n",
            "  Created wheel for wad: filename=wad-0.4.6-cp36-none-any.whl size=103568 sha256=1ba02508a3c3670faffc7f3025ea778c05225e0612551d0bda099bda10a24c57\n",
            "  Stored in directory: /root/.cache/pip/wheels/64/0d/84/9a14372a3b560cae510fc20700b385e8208d870ab36252bef3\n",
            "Successfully built wad\n",
            "Installing collected packages: wad\n",
            "Successfully installed wad-0.4.6\n"
          ],
          "name": "stdout"
        }
      ]
    },
    {
      "cell_type": "code",
      "metadata": {
        "id": "UPCttnCxWG6q"
      },
      "source": [
        "import wad"
      ],
      "execution_count": 18,
      "outputs": []
    },
    {
      "cell_type": "code",
      "metadata": {
        "id": "cjax4vzfacGn",
        "colab": {
          "base_uri": "https://localhost:8080/"
        },
        "outputId": "8c309725-6967-4fd9-b648-cd8197ac3226"
      },
      "source": [
        "!pip install wappalyzer"
      ],
      "execution_count": 19,
      "outputs": [
        {
          "output_type": "stream",
          "text": [
            "Collecting wappalyzer\n",
            "  Downloading https://files.pythonhosted.org/packages/8d/1f/ae0aa6f88fe1e0d16d88cf8f01d4e1a040766604548b076c48bccf4e8eb3/wappalyzer-1.0.tar.gz\n",
            "Requirement already satisfied: requests in /usr/local/lib/python3.6/dist-packages (from wappalyzer) (2.23.0)\n",
            "Requirement already satisfied: bs4 in /usr/local/lib/python3.6/dist-packages (from wappalyzer) (0.0.1)\n",
            "Requirement already satisfied: chardet<4,>=3.0.2 in /usr/local/lib/python3.6/dist-packages (from requests->wappalyzer) (3.0.4)\n",
            "Requirement already satisfied: urllib3!=1.25.0,!=1.25.1,<1.26,>=1.21.1 in /usr/local/lib/python3.6/dist-packages (from requests->wappalyzer) (1.24.3)\n",
            "Requirement already satisfied: idna<3,>=2.5 in /usr/local/lib/python3.6/dist-packages (from requests->wappalyzer) (2.10)\n",
            "Requirement already satisfied: certifi>=2017.4.17 in /usr/local/lib/python3.6/dist-packages (from requests->wappalyzer) (2020.12.5)\n",
            "Requirement already satisfied: beautifulsoup4 in /usr/local/lib/python3.6/dist-packages (from bs4->wappalyzer) (4.6.3)\n",
            "Building wheels for collected packages: wappalyzer\n",
            "  Building wheel for wappalyzer (setup.py) ... \u001b[?25l\u001b[?25hdone\n",
            "  Created wheel for wappalyzer: filename=wappalyzer-1.0-cp36-none-any.whl size=1354 sha256=c18173d923ceccd5e84686ca80ffde4bc21eaba5b2ba3d4a425004a8322a8145\n",
            "  Stored in directory: /root/.cache/pip/wheels/ed/df/a4/9a52643576912f6f5de19d41a1ae0402863e662757770428d7\n",
            "Successfully built wappalyzer\n",
            "Installing collected packages: wappalyzer\n",
            "Successfully installed wappalyzer-1.0\n"
          ],
          "name": "stdout"
        }
      ]
    },
    {
      "cell_type": "code",
      "metadata": {
        "id": "2b-UOGJnWG_6"
      },
      "source": [
        "#from wappalyzer import Wappalyzer"
      ],
      "execution_count": null,
      "outputs": []
    },
    {
      "cell_type": "markdown",
      "metadata": {
        "id": "M9cLn65Eqdqs"
      },
      "source": [
        "#Pythonic Reverse IP Lookups\n",
        "\n",
        "Get Nameservers and HostNames for the website "
      ]
    },
    {
      "cell_type": "code",
      "metadata": {
        "colab": {
          "base_uri": "https://localhost:8080/"
        },
        "id": "Mui3aTwYGUCH",
        "outputId": "ab23cbbe-523c-4de9-df3b-f9a8a6f32434"
      },
      "source": [
        "pip install dnspython"
      ],
      "execution_count": 26,
      "outputs": [
        {
          "output_type": "stream",
          "text": [
            "Requirement already satisfied: dnspython in /usr/local/lib/python3.6/dist-packages (2.1.0)\n"
          ],
          "name": "stdout"
        }
      ]
    },
    {
      "cell_type": "code",
      "metadata": {
        "colab": {
          "base_uri": "https://localhost:8080/"
        },
        "id": "8T3HZhE0Ghib",
        "outputId": "e8a52a63-6109-4f3a-fad2-ce1f54bf08e7"
      },
      "source": [
        "pip install ipwhois"
      ],
      "execution_count": 27,
      "outputs": [
        {
          "output_type": "stream",
          "text": [
            "Collecting ipwhois\n",
            "\u001b[?25l  Downloading https://files.pythonhosted.org/packages/6c/f5/9fbd3f0b6c52648b8fb95a9b376a756183941aaa76ca8728de5f81fbc7c2/ipwhois-1.2.0-py2.py3-none-any.whl (73kB)\n",
            "\u001b[K     |████████████████████████████████| 81kB 6.6MB/s \n",
            "\u001b[?25hCollecting dnspython<=2.0.0\n",
            "\u001b[?25l  Downloading https://files.pythonhosted.org/packages/90/49/cb426577c28ca3e35332815b795a99e467523843fc83cc85ca0d6be2515a/dnspython-2.0.0-py3-none-any.whl (208kB)\n",
            "\u001b[K     |████████████████████████████████| 215kB 8.0MB/s \n",
            "\u001b[?25hInstalling collected packages: dnspython, ipwhois\n",
            "  Found existing installation: dnspython 2.1.0\n",
            "    Uninstalling dnspython-2.1.0:\n",
            "      Successfully uninstalled dnspython-2.1.0\n",
            "Successfully installed dnspython-2.0.0 ipwhois-1.2.0\n"
          ],
          "name": "stdout"
        }
      ]
    },
    {
      "cell_type": "code",
      "metadata": {
        "colab": {
          "base_uri": "https://localhost:8080/"
        },
        "id": "H9NLLOclGkeA",
        "outputId": "a3aa76bc-0f2d-4c2d-abc0-c014d4fb3fea"
      },
      "source": [
        "pip install requests"
      ],
      "execution_count": 28,
      "outputs": [
        {
          "output_type": "stream",
          "text": [
            "Requirement already satisfied: requests in /usr/local/lib/python3.6/dist-packages (2.23.0)\n",
            "Requirement already satisfied: certifi>=2017.4.17 in /usr/local/lib/python3.6/dist-packages (from requests) (2020.12.5)\n",
            "Requirement already satisfied: urllib3!=1.25.0,!=1.25.1,<1.26,>=1.21.1 in /usr/local/lib/python3.6/dist-packages (from requests) (1.24.3)\n",
            "Requirement already satisfied: chardet<4,>=3.0.2 in /usr/local/lib/python3.6/dist-packages (from requests) (3.0.4)\n",
            "Requirement already satisfied: idna<3,>=2.5 in /usr/local/lib/python3.6/dist-packages (from requests) (2.10)\n"
          ],
          "name": "stdout"
        }
      ]
    },
    {
      "cell_type": "code",
      "metadata": {
        "colab": {
          "base_uri": "https://localhost:8080/"
        },
        "id": "1t5nSZbVG6VH",
        "outputId": "94bfc3c4-6bf8-490a-a160-9786ef2d0331"
      },
      "source": [
        "!pip install socket"
      ],
      "execution_count": 31,
      "outputs": [
        {
          "output_type": "stream",
          "text": [
            "\u001b[31mERROR: Could not find a version that satisfies the requirement socket (from versions: none)\u001b[0m\n",
            "\u001b[31mERROR: No matching distribution found for socket\u001b[0m\n"
          ],
          "name": "stdout"
        }
      ]
    },
    {
      "cell_type": "code",
      "metadata": {
        "id": "TdGuHiByFNZu"
      },
      "source": [
        "#dnspython\n",
        "#ipwhois\n",
        "#requests \n",
        "from ipwhois import IPWhois\n",
        "from pprint import pprint\n",
        "import socket\n",
        "import requests\n",
        "addr1 = socket.gethostbyname('https://machinelearningmastery.com/')\n",
        "obj = IPWhois(addr1)\n",
        "results = obj.lookup_whois(get_referral=True)\n",
        "pprint(results)"
      ],
      "execution_count": 33,
      "outputs": []
    },
    {
      "cell_type": "code",
      "metadata": {
        "id": "2MH3m-HyFNcO"
      },
      "source": [
        ""
      ],
      "execution_count": null,
      "outputs": []
    },
    {
      "cell_type": "code",
      "metadata": {
        "id": "nIL7fJMhFNlY"
      },
      "source": [
        ""
      ],
      "execution_count": null,
      "outputs": []
    },
    {
      "cell_type": "code",
      "metadata": {
        "id": "j3p9yfZ2kLNl",
        "colab": {
          "base_uri": "https://localhost:8080/",
          "height": 106
        },
        "outputId": "aaf945ee-2ee1-4e57-d777-b69f7d544536"
      },
      "source": [
        "!pip install dnspython"
      ],
      "execution_count": null,
      "outputs": [
        {
          "output_type": "stream",
          "text": [
            "Collecting dnspython\n",
            "\u001b[?25l  Downloading https://files.pythonhosted.org/packages/90/49/cb426577c28ca3e35332815b795a99e467523843fc83cc85ca0d6be2515a/dnspython-2.0.0-py3-none-any.whl (208kB)\n",
            "\u001b[K     |████████████████████████████████| 215kB 2.8MB/s \n",
            "\u001b[?25hInstalling collected packages: dnspython\n",
            "Successfully installed dnspython-2.0.0\n"
          ],
          "name": "stdout"
        }
      ]
    },
    {
      "cell_type": "code",
      "metadata": {
        "id": "qb_8MTTqkl3k",
        "colab": {
          "base_uri": "https://localhost:8080/",
          "height": 35
        },
        "outputId": "1ebf6823-d5f7-4e8f-a16a-c44a3f989314"
      },
      "source": [
        "!apt-get -qq install -y dnspython"
      ],
      "execution_count": null,
      "outputs": [
        {
          "output_type": "stream",
          "text": [
            "E: Unable to locate package dnspython\n"
          ],
          "name": "stdout"
        }
      ]
    },
    {
      "cell_type": "code",
      "metadata": {
        "id": "bZtIFWxAl8nE"
      },
      "source": [
        "import socket"
      ],
      "execution_count": 36,
      "outputs": []
    },
    {
      "cell_type": "code",
      "metadata": {
        "id": "RzzS6voAl_Yc"
      },
      "source": [
        "addr1 = socket.gethostbyname('machinelearningmastery.com')"
      ],
      "execution_count": 40,
      "outputs": []
    },
    {
      "cell_type": "code",
      "metadata": {
        "id": "YUT3oC2_mCge",
        "colab": {
          "base_uri": "https://localhost:8080/",
          "height": 35
        },
        "outputId": "0f0eead2-5190-4534-e85f-f46b5fb2f877"
      },
      "source": [
        "addr1"
      ],
      "execution_count": 41,
      "outputs": [
        {
          "output_type": "execute_result",
          "data": {
            "application/vnd.google.colaboratory.intrinsic+json": {
              "type": "string"
            },
            "text/plain": [
              "'35.196.45.101'"
            ]
          },
          "metadata": {
            "tags": []
          },
          "execution_count": 41
        }
      ]
    },
    {
      "cell_type": "code",
      "metadata": {
        "id": "GzPnFE6emDz5"
      },
      "source": [
        "reversed_dns = socket.gethostbyaddr('35.196.45.101')"
      ],
      "execution_count": 42,
      "outputs": []
    },
    {
      "cell_type": "code",
      "metadata": {
        "id": "CNxU7hENmnk_",
        "colab": {
          "base_uri": "https://localhost:8080/"
        },
        "outputId": "07d514b6-2732-4537-de79-47aac19e2dcf"
      },
      "source": [
        "reversed_dns"
      ],
      "execution_count": 43,
      "outputs": [
        {
          "output_type": "execute_result",
          "data": {
            "text/plain": [
              "('101.45.196.35.bc.googleusercontent.com', [], ['35.196.45.101'])"
            ]
          },
          "metadata": {
            "tags": []
          },
          "execution_count": 43
        }
      ]
    },
    {
      "cell_type": "code",
      "metadata": {
        "id": "gZ_4kv9UmouS",
        "colab": {
          "base_uri": "https://localhost:8080/",
          "height": 35
        },
        "outputId": "ef4ba192-f77a-4b26-dc37-47091baec415"
      },
      "source": [
        "pip install dnspython==2.0.0"
      ],
      "execution_count": null,
      "outputs": [
        {
          "output_type": "stream",
          "text": [
            "Requirement already satisfied: dnspython==2.0.0 in /usr/local/lib/python3.6/dist-packages (2.0.0)\n"
          ],
          "name": "stdout"
        }
      ]
    },
    {
      "cell_type": "code",
      "metadata": {
        "id": "jtFqwukqnHxd"
      },
      "source": [
        "from dns import reversename, resolver"
      ],
      "execution_count": 44,
      "outputs": []
    },
    {
      "cell_type": "code",
      "metadata": {
        "id": "U07v4RDEnNK0",
        "colab": {
          "base_uri": "https://localhost:8080/"
        },
        "outputId": "69c0b3b6-81d1-4850-c678-eb5e6c477339"
      },
      "source": [
        "rev_name = reversename.from_address('35.196.45.101')\n",
        "reversed_dns = str(resolver.query(rev_name,\"PTR\")[0])"
      ],
      "execution_count": 45,
      "outputs": [
        {
          "output_type": "stream",
          "text": [
            "/usr/local/lib/python3.6/dist-packages/ipykernel_launcher.py:2: DeprecationWarning: please use dns.resolver.resolve() instead\n",
            "  \n"
          ],
          "name": "stderr"
        }
      ]
    },
    {
      "cell_type": "code",
      "metadata": {
        "id": "6iXbVSaUnQpP",
        "colab": {
          "base_uri": "https://localhost:8080/",
          "height": 35
        },
        "outputId": "4cfc46de-ba3f-4634-96f3-de267d96168b"
      },
      "source": [
        "reversed_dns"
      ],
      "execution_count": 46,
      "outputs": [
        {
          "output_type": "execute_result",
          "data": {
            "application/vnd.google.colaboratory.intrinsic+json": {
              "type": "string"
            },
            "text/plain": [
              "'101.45.196.35.bc.googleusercontent.com.'"
            ]
          },
          "metadata": {
            "tags": []
          },
          "execution_count": 46
        }
      ]
    },
    {
      "cell_type": "markdown",
      "metadata": {
        "id": "-oKxcTd7Rp3S"
      },
      "source": [
        "Once you have got the IP address from the Domain Name, you can look at WHO is of that domain to get information about the host "
      ]
    },
    {
      "cell_type": "code",
      "metadata": {
        "id": "lepDYJvETMpv",
        "colab": {
          "base_uri": "https://localhost:8080/"
        },
        "outputId": "a29634e3-5daa-495c-edf0-f1ae195bcaf9"
      },
      "source": [
        "#https://ipwhois.readthedocs.io/en/latest/WHOIS.html#basic-usage\n",
        "!pip install ipwhois\n",
        "from ipwhois import IPWhois"
      ],
      "execution_count": 47,
      "outputs": [
        {
          "output_type": "stream",
          "text": [
            "Requirement already satisfied: ipwhois in /usr/local/lib/python3.6/dist-packages (1.2.0)\n",
            "Requirement already satisfied: dnspython<=2.0.0 in /usr/local/lib/python3.6/dist-packages (from ipwhois) (2.0.0)\n"
          ],
          "name": "stdout"
        }
      ]
    },
    {
      "cell_type": "code",
      "metadata": {
        "id": "HKxxPjfcTMsA"
      },
      "source": [
        "from pprint import pprint"
      ],
      "execution_count": 48,
      "outputs": []
    },
    {
      "cell_type": "code",
      "metadata": {
        "id": "bIX1PARmTMu2"
      },
      "source": [
        "obj = IPWhois('35.196.45.101')"
      ],
      "execution_count": 49,
      "outputs": []
    },
    {
      "cell_type": "code",
      "metadata": {
        "id": "eOy5akYjTMxP",
        "colab": {
          "base_uri": "https://localhost:8080/"
        },
        "outputId": "df9b6aed-2cac-4290-8616-7a4f54f80565"
      },
      "source": [
        "obj"
      ],
      "execution_count": 50,
      "outputs": [
        {
          "output_type": "execute_result",
          "data": {
            "text/plain": [
              "IPWhois(35.196.45.101, 5, <urllib.request.OpenerDirector object at 0x7f35a1a48630>)"
            ]
          },
          "metadata": {
            "tags": []
          },
          "execution_count": 50
        }
      ]
    },
    {
      "cell_type": "code",
      "metadata": {
        "id": "fPpR1a9sTM0l"
      },
      "source": [
        "results = obj.lookup_whois()"
      ],
      "execution_count": 51,
      "outputs": []
    },
    {
      "cell_type": "code",
      "metadata": {
        "id": "dSNHLwapTbFc",
        "colab": {
          "base_uri": "https://localhost:8080/"
        },
        "outputId": "7076f7a4-5452-42d3-e209-7c6daebf55a4"
      },
      "source": [
        "results"
      ],
      "execution_count": 52,
      "outputs": [
        {
          "output_type": "execute_result",
          "data": {
            "text/plain": [
              "{'asn': '15169',\n",
              " 'asn_cidr': '35.196.0.0/15',\n",
              " 'asn_country_code': 'US',\n",
              " 'asn_date': '2017-03-21',\n",
              " 'asn_description': 'GOOGLE, US',\n",
              " 'asn_registry': 'arin',\n",
              " 'nets': [{'address': '1600 Amphitheatre Parkway',\n",
              "   'cidr': '35.192.0.0/12',\n",
              "   'city': 'Mountain View',\n",
              "   'country': 'US',\n",
              "   'created': '2017-03-21',\n",
              "   'description': 'Google LLC',\n",
              "   'emails': ['arin-contact@google.com', 'google-cloud-compliance@google.com'],\n",
              "   'handle': 'NET-35-192-0-0-1',\n",
              "   'name': 'GOOGLE-CLOUD',\n",
              "   'postal_code': '94043',\n",
              "   'range': '35.192.0.0 - 35.207.255.255',\n",
              "   'state': 'CA',\n",
              "   'updated': '2018-01-24'}],\n",
              " 'nir': None,\n",
              " 'query': '35.196.45.101',\n",
              " 'raw': None,\n",
              " 'raw_referral': None,\n",
              " 'referral': None}"
            ]
          },
          "metadata": {
            "tags": []
          },
          "execution_count": 52
        }
      ]
    },
    {
      "cell_type": "markdown",
      "metadata": {
        "id": "G4Btc14fU99Y"
      },
      "source": [
        "Multiple networks listed and referral whois"
      ]
    },
    {
      "cell_type": "code",
      "metadata": {
        "id": "LtPs43WPVDgm",
        "colab": {
          "base_uri": "https://localhost:8080/"
        },
        "outputId": "f5c2f7cb-7b32-4a42-f8c7-165c1445a349"
      },
      "source": [
        "from ipwhois import IPWhois\n",
        "from pprint import pprint\n",
        "\n",
        "obj = IPWhois('35.196.45.101')\n",
        "results = obj.lookup_whois(get_referral=True)\n",
        "pprint(results)"
      ],
      "execution_count": 53,
      "outputs": [
        {
          "output_type": "stream",
          "text": [
            "{'asn': '15169',\n",
            " 'asn_cidr': '35.196.0.0/15',\n",
            " 'asn_country_code': 'US',\n",
            " 'asn_date': '2017-03-21',\n",
            " 'asn_description': 'GOOGLE, US',\n",
            " 'asn_registry': 'arin',\n",
            " 'nets': [{'address': '1600 Amphitheatre Parkway',\n",
            "           'cidr': '35.192.0.0/12',\n",
            "           'city': 'Mountain View',\n",
            "           'country': 'US',\n",
            "           'created': '2017-03-21',\n",
            "           'description': 'Google LLC',\n",
            "           'emails': ['arin-contact@google.com',\n",
            "                      'google-cloud-compliance@google.com'],\n",
            "           'handle': 'NET-35-192-0-0-1',\n",
            "           'name': 'GOOGLE-CLOUD',\n",
            "           'postal_code': '94043',\n",
            "           'range': '35.192.0.0 - 35.207.255.255',\n",
            "           'state': 'CA',\n",
            "           'updated': '2018-01-24'}],\n",
            " 'nir': None,\n",
            " 'query': '35.196.45.101',\n",
            " 'raw': None,\n",
            " 'raw_referral': None,\n",
            " 'referral': None}\n"
          ],
          "name": "stdout"
        }
      ]
    },
    {
      "cell_type": "code",
      "metadata": {
        "id": "U8mbY5GEcb59",
        "colab": {
          "base_uri": "https://localhost:8080/"
        },
        "outputId": "3b31e4ef-b106-4fc2-d44d-7badbf0dc214"
      },
      "source": [
        "import requests\n",
        "requests.get('http://machinelearningmastery.com', verify=True)"
      ],
      "execution_count": 55,
      "outputs": [
        {
          "output_type": "execute_result",
          "data": {
            "text/plain": [
              "<Response [403]>"
            ]
          },
          "metadata": {
            "tags": []
          },
          "execution_count": 55
        }
      ]
    },
    {
      "cell_type": "code",
      "metadata": {
        "id": "T9w2fibhcj9e"
      },
      "source": [
        "## SSL Checker in Python \n",
        "\n",
        "#https://gist.github.com/gdamjan/55a8b9eec6cf7b771f92021d93b87b2c"
      ],
      "execution_count": null,
      "outputs": []
    },
    {
      "cell_type": "code",
      "metadata": {
        "id": "H_-FC797efYT"
      },
      "source": [
        ""
      ],
      "execution_count": null,
      "outputs": []
    },
    {
      "cell_type": "code",
      "metadata": {
        "id": "--iggcfSDK7g",
        "colab": {
          "base_uri": "https://localhost:8080/"
        },
        "outputId": "b6b7c2f0-ea84-44a9-e8e9-6eda31029879"
      },
      "source": [
        "#!pip install ipwhois\n",
        "from ipwhois import IPWhois\n",
        "from pprint import pprint\n",
        "addr1 = socket.gethostbyname('machinelearningmastery.com')\n",
        "obj = IPWhois(addr1 )\n",
        "results = obj.lookup_whois(get_referral=True)\n",
        "pprint(results)"
      ],
      "execution_count": 56,
      "outputs": [
        {
          "output_type": "stream",
          "text": [
            "{'asn': '15169',\n",
            " 'asn_cidr': '35.196.0.0/15',\n",
            " 'asn_country_code': 'US',\n",
            " 'asn_date': '2017-03-21',\n",
            " 'asn_description': 'GOOGLE, US',\n",
            " 'asn_registry': 'arin',\n",
            " 'nets': [{'address': '1600 Amphitheatre Parkway',\n",
            "           'cidr': '35.192.0.0/12',\n",
            "           'city': 'Mountain View',\n",
            "           'country': 'US',\n",
            "           'created': '2017-03-21',\n",
            "           'description': 'Google LLC',\n",
            "           'emails': ['arin-contact@google.com',\n",
            "                      'google-cloud-compliance@google.com'],\n",
            "           'handle': 'NET-35-192-0-0-1',\n",
            "           'name': 'GOOGLE-CLOUD',\n",
            "           'postal_code': '94043',\n",
            "           'range': '35.192.0.0 - 35.207.255.255',\n",
            "           'state': 'CA',\n",
            "           'updated': '2018-01-24'}],\n",
            " 'nir': None,\n",
            " 'query': '35.196.45.101',\n",
            " 'raw': None,\n",
            " 'raw_referral': None,\n",
            " 'referral': None}\n"
          ],
          "name": "stdout"
        }
      ]
    },
    {
      "cell_type": "code",
      "metadata": {
        "id": "tknYXGwNlgi2",
        "colab": {
          "base_uri": "https://localhost:8080/",
          "height": 35
        },
        "outputId": "7ac87d48-d99d-46f0-cd29-afef09b4d490"
      },
      "source": [
        "results['asn_description']"
      ],
      "execution_count": 57,
      "outputs": [
        {
          "output_type": "execute_result",
          "data": {
            "application/vnd.google.colaboratory.intrinsic+json": {
              "type": "string"
            },
            "text/plain": [
              "'GOOGLE, US'"
            ]
          },
          "metadata": {
            "tags": []
          },
          "execution_count": 57
        }
      ]
    },
    {
      "cell_type": "code",
      "metadata": {
        "id": "q8C0lqEoYoKV"
      },
      "source": [
        "#website= builtwith.parse(\"https://www.matchmediagroup.com/\")\n"
      ],
      "execution_count": null,
      "outputs": []
    },
    {
      "cell_type": "code",
      "metadata": {
        "id": "TMCUqnaEY6_a",
        "colab": {
          "base_uri": "https://localhost:8080/"
        },
        "outputId": "e6ac97da-0d35-42ce-bebb-e3e87e580ee6"
      },
      "source": [
        "website"
      ],
      "execution_count": 58,
      "outputs": [
        {
          "output_type": "execute_result",
          "data": {
            "text/plain": [
              "{'blogs': ['PHP', 'WordPress'],\n",
              " 'cms': ['WordPress'],\n",
              " 'javascript-frameworks': ['Modernizr', 'jQuery'],\n",
              " 'marketing-automation': ['Yoast SEO'],\n",
              " 'programming-languages': ['PHP'],\n",
              " 'web-servers': ['Nginx']}"
            ]
          },
          "metadata": {
            "tags": []
          },
          "execution_count": 58
        }
      ]
    },
    {
      "cell_type": "code",
      "metadata": {
        "id": "BWFUU-gjY5RY",
        "colab": {
          "base_uri": "https://localhost:8080/"
        },
        "outputId": "e7d61ba4-9a46-42c0-cfa1-5c099b9134c5"
      },
      "source": [
        "website= builtwith.parse(\"http://machinelearningmastery.com/\")\n",
        "website"
      ],
      "execution_count": 59,
      "outputs": [
        {
          "output_type": "execute_result",
          "data": {
            "text/plain": [
              "{'blogs': ['PHP', 'WordPress'],\n",
              " 'cms': ['WordPress'],\n",
              " 'javascript-frameworks': ['Modernizr', 'jQuery'],\n",
              " 'marketing-automation': ['Yoast SEO'],\n",
              " 'programming-languages': ['PHP'],\n",
              " 'web-servers': ['Nginx']}"
            ]
          },
          "metadata": {
            "tags": []
          },
          "execution_count": 59
        }
      ]
    },
    {
      "cell_type": "code",
      "metadata": {
        "id": "WcvGL6-LmFYj",
        "colab": {
          "base_uri": "https://localhost:8080/"
        },
        "outputId": "cbfb315b-7678-4142-9d14-97b7bf741ecd"
      },
      "source": [
        "from ipwhois import IPWhois\n",
        "from pprint import pprint\n",
        "addr1 = socket.gethostbyname('machinelearningmastery.com')\n",
        "obj = IPWhois(addr1 )\n",
        "results = obj.lookup_whois(get_referral=True)\n",
        "pprint(results)"
      ],
      "execution_count": 60,
      "outputs": [
        {
          "output_type": "stream",
          "text": [
            "{'asn': '15169',\n",
            " 'asn_cidr': '35.196.0.0/15',\n",
            " 'asn_country_code': 'US',\n",
            " 'asn_date': '2017-03-21',\n",
            " 'asn_description': 'GOOGLE, US',\n",
            " 'asn_registry': 'arin',\n",
            " 'nets': [{'address': '1600 Amphitheatre Parkway',\n",
            "           'cidr': '35.192.0.0/12',\n",
            "           'city': 'Mountain View',\n",
            "           'country': 'US',\n",
            "           'created': '2017-03-21',\n",
            "           'description': 'Google LLC',\n",
            "           'emails': ['arin-contact@google.com',\n",
            "                      'google-cloud-compliance@google.com'],\n",
            "           'handle': 'NET-35-192-0-0-1',\n",
            "           'name': 'GOOGLE-CLOUD',\n",
            "           'postal_code': '94043',\n",
            "           'range': '35.192.0.0 - 35.207.255.255',\n",
            "           'state': 'CA',\n",
            "           'updated': '2018-01-24'}],\n",
            " 'nir': None,\n",
            " 'query': '35.196.45.101',\n",
            " 'raw': None,\n",
            " 'raw_referral': None,\n",
            " 'referral': None}\n"
          ],
          "name": "stdout"
        }
      ]
    },
    {
      "cell_type": "code",
      "metadata": {
        "id": "4C7NCLAsazZf",
        "colab": {
          "base_uri": "https://localhost:8080/"
        },
        "outputId": "d5d7950a-cc38-4d04-a3f0-8a6bb22a1102"
      },
      "source": [
        "!pip install wad"
      ],
      "execution_count": 62,
      "outputs": [
        {
          "output_type": "stream",
          "text": [
            "Requirement already satisfied: wad in /usr/local/lib/python3.6/dist-packages (0.4.6)\n"
          ],
          "name": "stdout"
        }
      ]
    },
    {
      "cell_type": "code",
      "metadata": {
        "id": "uo1WYe0obKFJ"
      },
      "source": [
        "from wad import * "
      ],
      "execution_count": 63,
      "outputs": []
    },
    {
      "cell_type": "code",
      "metadata": {
        "id": "Z6XJBlFIcS_b"
      },
      "source": [
        "import os\n",
        "import argparse\n",
        "import json\n",
        "import importlib"
      ],
      "execution_count": 64,
      "outputs": []
    },
    {
      "cell_type": "code",
      "metadata": {
        "id": "xEr5xNKXdEfy"
      },
      "source": [
        ""
      ],
      "execution_count": null,
      "outputs": []
    }
  ]
}